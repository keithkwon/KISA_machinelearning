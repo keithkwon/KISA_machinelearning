{
  "nbformat": 4,
  "nbformat_minor": 0,
  "metadata": {
    "colab": {
      "name": "Logistic.ipynb",
      "provenance": [],
      "collapsed_sections": []
    },
    "kernelspec": {
      "name": "python3",
      "display_name": "Python 3"
    }
  },
  "cells": [
    {
      "cell_type": "code",
      "metadata": {
        "id": "OAsVRWYzv5b6"
      },
      "source": [
        "import sys\n",
        "import keras\n",
        "import numpy as np\n",
        "import matplotlib.pyplot as plt\n",
        "from __future__ import division, print_function\n",
        "from tqdm import tqdm"
      ],
      "execution_count": 1,
      "outputs": []
    },
    {
      "cell_type": "code",
      "metadata": {
        "id": "9WYlp8qyv-99"
      },
      "source": [
        "(x_train, y_train), (x_test, y_test) = keras.datasets.mnist.load_data()"
      ],
      "execution_count": 2,
      "outputs": []
    },
    {
      "cell_type": "code",
      "metadata": {
        "colab": {
          "base_uri": "https://localhost:8080/"
        },
        "id": "TxPEjnSVwBBA",
        "outputId": "f92e21ab-e235-4018-faae-49e3fcefccee"
      },
      "source": [
        "print(x_train.shape, y_train.shape, x_test.shape, y_test.shape)"
      ],
      "execution_count": 26,
      "outputs": [
        {
          "output_type": "stream",
          "text": [
            "(60000, 28, 28) (60000,) (10000, 28, 28) (10000,)\n"
          ],
          "name": "stdout"
        }
      ]
    },
    {
      "cell_type": "code",
      "metadata": {
        "id": "4hp3t1kBwE7O"
      },
      "source": [
        "def get_binary_data(x, y, classes):\n",
        "  x_r = []\n",
        "  y_r = []\n",
        "\n",
        "  for idx, value in enumerate(y):\n",
        "    if value == classes[0]:\n",
        "      x_r.append(x[idx])\n",
        "      y_r.append(0)\n",
        "    elif value == classes[1]:\n",
        "      x_r.append(x[idx])\n",
        "      y_r.append(1)\n",
        "      \n",
        "  return np.array(x_r), np.array(y_r)"
      ],
      "execution_count": 4,
      "outputs": []
    },
    {
      "cell_type": "code",
      "metadata": {
        "id": "GlAk0marwHMl"
      },
      "source": [
        "x_train_r, y_train_r = get_binary_data(x_train, y_train, (1, 2))\n",
        "x_test_r, y_test_r = get_binary_data(x_test, y_test, (1, 2))"
      ],
      "execution_count": 5,
      "outputs": []
    },
    {
      "cell_type": "code",
      "metadata": {
        "colab": {
          "base_uri": "https://localhost:8080/"
        },
        "id": "GmN9OQp3DVVx",
        "outputId": "6dc50271-e44c-4d6d-a8c2-fd37ffda6370"
      },
      "source": [
        "y_train_r"
      ],
      "execution_count": 6,
      "outputs": [
        {
          "output_type": "execute_result",
          "data": {
            "text/plain": [
              "array([0, 1, 0, ..., 1, 1, 0])"
            ]
          },
          "metadata": {
            "tags": []
          },
          "execution_count": 6
        }
      ]
    },
    {
      "cell_type": "code",
      "metadata": {
        "colab": {
          "base_uri": "https://localhost:8080/",
          "height": 283
        },
        "id": "pLfjMeVtwJPQ",
        "outputId": "e78ade87-1f74-4c78-a713-dda35b2ca85b"
      },
      "source": [
        "plt.imshow(x_train_r[0], cmap='gray_r')"
      ],
      "execution_count": 7,
      "outputs": [
        {
          "output_type": "execute_result",
          "data": {
            "text/plain": [
              "<matplotlib.image.AxesImage at 0x7f8efc622438>"
            ]
          },
          "metadata": {
            "tags": []
          },
          "execution_count": 7
        },
        {
          "output_type": "display_data",
          "data": {
            "image/png": "[encoded data removed]",
            "text/plain": [
              "<Figure size 432x288 with 1 Axes>"
            ]
          },
          "metadata": {
            "tags": [],
            "needs_background": "light"
          }
        }
      ]
    },
    {
      "cell_type": "code",
      "metadata": {
        "colab": {
          "base_uri": "https://localhost:8080/"
        },
        "id": "gwn2EWA8wLFI",
        "outputId": "03821a2f-eb86-401d-b467-13b82f0519bf"
      },
      "source": [
        "x_train_flatten = x_train_r.reshape(x_train_r.shape[0], -1)\n",
        "x_test_flatten = x_test_r.reshape(x_test_r.shape[0], -1)\n",
        "\n",
        "print('X_train_flatten shape: ' + str(x_train_flatten.shape))\n",
        "print('Y_train shape: ' + str(y_train_r.shape))\n",
        "print('X_test_flatten shape: ' + str(x_test_flatten.shape))\n",
        "print('Y_test shape: ' + str(y_test_r.shape))\n",
        "\n",
        "x_train_std = x_train_flatten / 255.\n",
        "x_test_std = x_test_flatten / 255."
      ],
      "execution_count": 8,
      "outputs": [
        {
          "output_type": "stream",
          "text": [
            "X_train_flatten shape: (12700, 784)\n",
            "Y_train shape: (12700,)\n",
            "X_test_flatten shape: (2167, 784)\n",
            "Y_test shape: (2167,)\n"
          ],
          "name": "stdout"
        }
      ]
    },
    {
      "cell_type": "markdown",
      "metadata": {
        "id": "ZODneRY5F89c"
      },
      "source": [
        "**Sigmoid:** $f(z) = \\dfrac{1}{1+e^{-z}}$ where $z=w^T x$"
      ]
    },
    {
      "cell_type": "code",
      "metadata": {
        "id": "8K7BfP-LwMnl"
      },
      "source": [
        "def sigmoid(z):\n",
        "    sig = 1.0 / (1.0 + np.exp(-z))\n",
        "    return sig"
      ],
      "execution_count": 9,
      "outputs": []
    },
    {
      "cell_type": "code",
      "metadata": {
        "colab": {
          "base_uri": "https://localhost:8080/"
        },
        "id": "OZLcuEgiwQHk",
        "outputId": "5cf827e5-5049-4bfa-fa62-a7c24adf6caa"
      },
      "source": [
        "print (\"sigmoid(0) = \" + str(sigmoid(0)))\n",
        "print (\"sigmoid(5.5) = \" + str(sigmoid(4.5)))\n",
        "print (\"sigmoid(-7) = \" + str(sigmoid(-6)))"
      ],
      "execution_count": 24,
      "outputs": [
        {
          "output_type": "stream",
          "text": [
            "sigmoid(0) = 0.5\n",
            "sigmoid(5.5) = 0.9890130573694068\n",
            "sigmoid(-7) = 0.0024726231566347743\n"
          ],
          "name": "stdout"
        }
      ]
    },
    {
      "cell_type": "markdown",
      "metadata": {
        "id": "9o1rkb4cGG5g"
      },
      "source": [
        "__predict__: 모델의 예측값 $x_i$; $h(w^Tx_i)=\\dfrac{1}{1+e^{-w^T x_i}}$ \n",
        "\n",
        "__loss__: 모델의 예측값과 실제값의 차이 $J(w)=\\frac{1}{n}\\sum_{i=1}^n[-y_i\\text{log}\\{h(w^Tx_i)\\} - (1-y_i)\\text{log}\\{1-h(w^Tx_i)\\}]$"
      ]
    },
    {
      "cell_type": "code",
      "metadata": {
        "id": "ez9Wsmg8wTNM"
      },
      "source": [
        "def forward(x, y, w, eps=1e-8):\n",
        "    predict = sigmoid(np.dot(x, w))\n",
        "    loss = np.sum(-y * np.log(predict + eps) - (1 - y) * np.log(1-predict + eps))\n",
        "    loss /= len(y)\n",
        "    \n",
        "    return predict, loss"
      ],
      "execution_count": 11,
      "outputs": []
    },
    {
      "cell_type": "markdown",
      "metadata": {
        "id": "5Z2slU0gGPB9"
      },
      "source": [
        "$$\n",
        "\\begin{aligned}\n",
        "\\frac{\\partial J(\\boldsymbol{w})}{\\partial \\boldsymbol{w}} &=-\\frac{1}{n} \\sum_{i=1}^{n}\\left[y_{i}\\left(1-h\\left(\\boldsymbol{w}^{T} \\boldsymbol{x}_{i}\\right)\\right)-\\left(1-y_{i}\\right) h\\left(\\boldsymbol{w}^{T} \\boldsymbol{x}_{i}\\right)\\right] \\boldsymbol{x}_{i} \\\\\n",
        "&=\\frac{1}{n} \\sum_{i=1}^{n}\\left[h\\left(\\boldsymbol{w}^{T} \\boldsymbol{x}_{i}\\right)-y_{i}\\right] \\boldsymbol{x}_{i}\\\\\n",
        "&= \\frac{1}{n} (\\hat{Y}-Y)X\n",
        "\\end{aligned}\n",
        "$$\n",
        "\n",
        "__grad_w__: Gradient of weights, 가중치로 손실함수를 편미분한 값"
      ]
    },
    {
      "cell_type": "code",
      "metadata": {
        "id": "Lq4383h_wXHR"
      },
      "source": [
        "def backward(x, y, predict):\n",
        "    grad_w = np.dot((predict - y), x) / len(y)\n",
        "    return grad_w"
      ],
      "execution_count": 12,
      "outputs": []
    },
    {
      "cell_type": "code",
      "metadata": {
        "id": "BUJdxX2Jwb7g"
      },
      "source": [
        "def bias_unit(x, w, b):\n",
        "    one_pad = np.ones(x.shape[0]).reshape(-1, 1)\n",
        "    x_bar = np.hstack((x, one_pad))\n",
        "    w_bar = np.append(w, b)\n",
        "    return x_bar, w_bar"
      ],
      "execution_count": 13,
      "outputs": []
    },
    {
      "cell_type": "code",
      "metadata": {
        "id": "QLGuSubTweQQ"
      },
      "source": [
        "def initialize_params(x_train, verbose=False):\n",
        "    \n",
        "    w = np.random.normal(size=x_train.shape[1])\n",
        "    b = 0\n",
        "    \n",
        "    x_train_bar, w_bar = bias_unit(x_train, w, b)\n",
        "    if verbose:\n",
        "        print('Before adding the bias unit')\n",
        "        print('shape of x_train:, ', x_train.shape)\n",
        "        print('w: ', w.__repr__())\n",
        "        print('b: ', b.__repr__(), end='\\n\\n')\n",
        "        print('After adding the bias unit')\n",
        "        print('shape of x_train_bar:, ', x_train_bar.shape)\n",
        "        print('w_bar: ', w_bar.__repr__())\n",
        "    \n",
        "    return x_train_bar, w_bar"
      ],
      "execution_count": 14,
      "outputs": []
    },
    {
      "cell_type": "markdown",
      "metadata": {
        "id": "8qZd3I_XGhFQ"
      },
      "source": [
        "__acc__: $\\dfrac{1}{n}\\sum_{i=1}^{n}\\mathbf{1}_{[\\hat{y}_i=y_i]} \\times 100 (\\%)$ where $\\hat{y}_i = \\mathbf{1}_{[h(w^Tx_i)\\geq0.5]}$. And $\\mathbf{1}_{A}$ is defined as:\n",
        "\n",
        "$$\\mathbf{1}_{A}:=\\left\\{\\begin{array}{ll}\n",
        "1 & \\text { if } A \\text{ is true}\\\\\n",
        "0 & \\text { if } A \\text{ is false}\n",
        "\\end{array}\\right.$$\n",
        "\n",
        "예측값이 0.5 이상이면 1로 간주"
      ]
    },
    {
      "cell_type": "code",
      "metadata": {
        "id": "n7KbId-WybrZ"
      },
      "source": [
        "def accuracy(predict, y):\n",
        "    predict_binary = np.array([1 if x >= 0.5 else 0 for x in predict])\n",
        "    acc = np.sum((predict_binary == y)) / len(y) * 100\n",
        "    return acc"
      ],
      "execution_count": 15,
      "outputs": []
    },
    {
      "cell_type": "code",
      "metadata": {
        "colab": {
          "base_uri": "https://localhost:8080/"
        },
        "id": "xeNCeYpByfPJ",
        "outputId": "59f74b7d-7d7b-4d24-b654-5a2ffdbd68de"
      },
      "source": [
        "# hyperparameter\n",
        "num_of_iteration = 500\n",
        "learning_rate = 0.25\n",
        "\n",
        "# fix random seed for reproducibility\n",
        "np.random.seed(100)\n",
        "\n",
        "# 모델 초기화 및 bias 추가\n",
        "x_train_bar, w_bar = initialize_params(x_train_std, False)\n",
        "    \n",
        "it = tqdm(range(num_of_iteration))\n",
        "for i in it:\n",
        "    \n",
        "    # 예측값 및 오차 계산\n",
        "    predict, loss = forward(x_train_bar, y_train_r, w_bar)                                                       \n",
        "\n",
        "    # 정확도 측정\n",
        "    train_acc = accuracy(predict, y_train_r)                                                 \n",
        "\n",
        "    # 그래디언트 계산\n",
        "    grad_w = backward(x_train_bar, y_train_r, predict)                                                      \n",
        "\n",
        "    # 가중치 업데이트\n",
        "    w_bar -= learning_rate * grad_w\n",
        "    \n",
        "    if i % 100 == 0:\n",
        "        it.set_postfix(accuracy='{:.2f}'.format(train_acc),\n",
        "                      loss='{:.4f}'.format(loss))\n",
        "    \n",
        "# 훈련 정확도 계산\n",
        "predict, _ = forward(x_train_bar, y_train_r, w_bar)\n",
        "train_acc = accuracy(predict, y_train_r)\n",
        "print('train accuracy: {:.2f}'.format(train_acc))\n",
        "\n",
        "# 테스트 데이터에 bias 추가\n",
        "unit_ones = np.ones((len(x_test_std), 1))\n",
        "x_test_bar = np.concatenate((x_test_std, unit_ones), axis=1)\n",
        "\n",
        "# 테스트 데이터 정확도 계산\n",
        "predict, _ = forward(x_test_bar, y_test_r, w_bar)\n",
        "test_acc = accuracy(predict, y_test_r)\n",
        "print('test accuracy: {:.2f}'.format(test_acc))"
      ],
      "execution_count": 20,
      "outputs": [
        {
          "output_type": "stream",
          "text": [
            "100%|██████████| 500/500 [00:11<00:00, 42.52it/s, accuracy=98.02, loss=0.0766]"
          ],
          "name": "stderr"
        },
        {
          "output_type": "stream",
          "text": [
            "train accuracy: 98.15\n",
            "test accuracy: 98.25\n"
          ],
          "name": "stdout"
        },
        {
          "output_type": "stream",
          "text": [
            "\n"
          ],
          "name": "stderr"
        }
      ]
    },
    {
      "cell_type": "code",
      "metadata": {
        "colab": {
          "base_uri": "https://localhost:8080/",
          "height": 443
        },
        "id": "q5lg7bcoy6dn",
        "outputId": "8849be06-ec39-415e-ccac-4f88c6dd68f1"
      },
      "source": [
        "np.random.seed(77)\n",
        "idxs = np.random.choice(len(y_test_r), 10, replace=False)\n",
        "label_to_class = {0: '1', 1: '2'}\n",
        "\n",
        "plt.figure(figsize=(16, 8))\n",
        "for i, idx in enumerate(idxs):\n",
        "    plt.subplot(2, 5, i + 1)\n",
        "    predict, _ = forward(x_test_bar, y_test_r, w_bar)\n",
        "    pred_label = (predict[idx] >= 0.5).astype(np.int)\n",
        "    plt.imshow(x_test_r[idx], cmap='gray_r')\n",
        "    plt.title('Digit Prediction: {} '.format(label_to_class[pred_label]), fontsize=14)\n",
        "    plt.xticks([]); plt.yticks([])"
      ],
      "execution_count": 22,
      "outputs": [
        {
          "output_type": "display_data",
          "data": {
            "image/png": "[encoded data removed]",
            "text/plain": [
              "<Figure size 1152x576 with 10 Axes>"
            ]
          },
          "metadata": {
            "tags": []
          }
        }
      ]
    }
  ]
}